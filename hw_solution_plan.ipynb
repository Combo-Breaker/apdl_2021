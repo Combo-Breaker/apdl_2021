{
 "cells": [
  {
   "cell_type": "markdown",
   "id": "8d5245c4",
   "metadata": {},
   "source": [
    "## BoW / TF-IDF + linear model\n",
    "\n",
    "1. Провести препроцессинг: подумайте о регистре, стоп-словах, нормализации, очистке от небуквенных символов.\n",
    "2. Получить для каждого объекта выборки список токенов.\n",
    "2. Для списка токенов (на train выборке!) посчитать модель BoW / tf-idf.\n",
    "3. Обучить на полученном представлении линейную модель (например, логистическую регрессию)."
   ]
  },
  {
   "cell_type": "code",
   "execution_count": null,
   "id": "d4d0e85a",
   "metadata": {},
   "outputs": [],
   "source": []
  },
  {
   "cell_type": "code",
   "execution_count": null,
   "id": "152a6d3a",
   "metadata": {},
   "outputs": [],
   "source": []
  },
  {
   "cell_type": "code",
   "execution_count": null,
   "id": "bd06ec95",
   "metadata": {},
   "outputs": [],
   "source": []
  },
  {
   "cell_type": "code",
   "execution_count": null,
   "id": "6150c293",
   "metadata": {},
   "outputs": [],
   "source": []
  },
  {
   "cell_type": "markdown",
   "id": "48f1c37c",
   "metadata": {},
   "source": [
    "## Модель на векторах слов\n",
    "\n",
    "1. Провести препроцессинг: подумайте о регистре, стоп-словах, нормализации, очистке от небуквенных символов.\n",
    "2. Преобразовать текст в следующий формат: текст - это список предложений, каждое предложение - список слов, например, [[это, первое, предложение], [а, это, второе]].\n",
    "3. Обучите модель векторов слов. Если вы обучаете w2v, то на вход можно подать данные в формате п. 2. Если вы хотите обучить fastText, надо записать тексты в файл в формате \"1 строка - 1 текст, слова разделены пробелом\".\n",
    "4. Напишите функцию, которая принимает на вход текст, а возвращает средний эмбеддинг (средний по словам):"
   ]
  },
  {
   "cell_type": "raw",
   "id": "fcc150e8",
   "metadata": {},
   "source": [
    "model = w2v()\n",
    "\n",
    "def mean_text_embedding(sentence, embeddings_model):\n",
    " tokens = sentence.split()\n",
    " embedings = [model(token) for token in tokens]\n",
    " embeding_text = mean(embedings)\n",
    " \n",
    " return embeding_text\n",
    " \n",
    " \n",
    " ... # get embedding for every word\n",
    " ... # get mean embedding\n",
    " \n",
    " Если размерность эмбеддинга слова у вас равна N, то и эмбеддинг текста будет иметь размерность N."
   ]
  },
  {
   "cell_type": "markdown",
   "id": "8a59de96",
   "metadata": {},
   "source": [
    "5. Вычислите средние эбеддинг для всех документов вашей коллекции.\n",
    "6. Обучите на полученных векторах модель (каждый объект выборки у вас представлен N признаками)."
   ]
  },
  {
   "cell_type": "code",
   "execution_count": null,
   "id": "7423c15f",
   "metadata": {},
   "outputs": [],
   "source": []
  },
  {
   "cell_type": "code",
   "execution_count": null,
   "id": "82b98bb7",
   "metadata": {},
   "outputs": [],
   "source": []
  },
  {
   "cell_type": "code",
   "execution_count": null,
   "id": "1c9c392b",
   "metadata": {},
   "outputs": [],
   "source": []
  },
  {
   "cell_type": "markdown",
   "id": "e0f4cae7",
   "metadata": {},
   "source": [
    "## Попробуйте обучить supervised fastText.\n",
    "\n",
    "Пример есть в ноутбуке 3_classification. Не забудьте про препроцессинг (:"
   ]
  },
  {
   "cell_type": "code",
   "execution_count": null,
   "id": "646ef429",
   "metadata": {},
   "outputs": [],
   "source": []
  },
  {
   "cell_type": "code",
   "execution_count": null,
   "id": "0ae1ca8f",
   "metadata": {},
   "outputs": [],
   "source": []
  },
  {
   "cell_type": "code",
   "execution_count": null,
   "id": "8a25b75b",
   "metadata": {},
   "outputs": [],
   "source": []
  },
  {
   "cell_type": "code",
   "execution_count": null,
   "id": "6bd27c94",
   "metadata": {},
   "outputs": [],
   "source": []
  },
  {
   "cell_type": "markdown",
   "id": "ed854fa9",
   "metadata": {},
   "source": [
    "## CNN\n",
    "\n",
    "1. Да, первым снова будет препроцессинг, потому что мы хотим получить хорошие векторы слов на вход (:\n",
    "2. Найдите модель слов, которую вы будете использовать. Удобнее всего будет скачать модель с RusVectores в формате txt и дальше сделать"
   ]
  },
  {
   "cell_type": "code",
   "execution_count": null,
   "id": "825f9848",
   "metadata": {},
   "outputs": [],
   "source": [
    "import torchtext.vocab as vocab\n",
    "\n",
    "custom_embeddings = vocab.Vectors(name = 'path_to_your_embeddings.txt')\n",
    "TEXT.build_vocab(data, max_size=10000, vectors=custom_embeddings)"
   ]
  },
  {
   "cell_type": "markdown",
   "id": "245e00de",
   "metadata": {},
   "source": [
    "по аналогии с тем, как делали на семинаре.\n",
    "\n",
    "3. Сформируйте батчи (возьмите код с семинара).\n",
    "4. Создайте модель (начните с архитектуры семинара, потом можно поэкспериментировать с кол-вом сверток / функциями активации / размерами фильтров).\n",
    "5. Обучите модель (:"
   ]
  },
  {
   "cell_type": "code",
   "execution_count": null,
   "id": "93ef0687",
   "metadata": {},
   "outputs": [],
   "source": []
  },
  {
   "cell_type": "code",
   "execution_count": null,
   "id": "533d50e4",
   "metadata": {},
   "outputs": [],
   "source": []
  },
  {
   "cell_type": "code",
   "execution_count": null,
   "id": "b588e28f",
   "metadata": {},
   "outputs": [],
   "source": []
  },
  {
   "cell_type": "code",
   "execution_count": null,
   "id": "b271bb29",
   "metadata": {},
   "outputs": [],
   "source": []
  }
 ],
 "metadata": {
  "kernelspec": {
   "display_name": "Python 3 (ipykernel)",
   "language": "python",
   "name": "python3"
  },
  "language_info": {
   "codemirror_mode": {
    "name": "ipython",
    "version": 3
   },
   "file_extension": ".py",
   "mimetype": "text/x-python",
   "name": "python",
   "nbconvert_exporter": "python",
   "pygments_lexer": "ipython3",
   "version": "3.9.7"
  }
 },
 "nbformat": 4,
 "nbformat_minor": 5
}
